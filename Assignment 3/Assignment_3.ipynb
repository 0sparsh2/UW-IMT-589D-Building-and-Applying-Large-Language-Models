{
  "nbformat": 4,
  "nbformat_minor": 0,
  "metadata": {
    "colab": {
      "provenance": [],
      "gpuType": "T4"
    },
    "kernelspec": {
      "name": "python3",
      "display_name": "Python 3"
    },
    "language_info": {
      "name": "python"
    },
    "accelerator": "GPU"
  },
  "cells": [
    {
      "cell_type": "code",
      "execution_count": null,
      "metadata": {
        "id": "lX2o7qc4vosS"
      },
      "outputs": [],
      "source": [
        "# Import all the necessary files!\n",
        "import os\n",
        "import tensorflow as tf\n",
        "import keras\n",
        "from tensorflow.keras import layers\n",
        "from tensorflow.keras import Model\n",
        "from os import getcwd"
      ]
    },
    {
      "cell_type": "code",
      "source": [
        "from tensorflow.keras.models import Sequential\n",
        "from tensorflow.keras.layers import LSTM, Dense, Dropout, Flatten, Reshape\n",
        "from tensorflow.keras.utils import to_categorical"
      ],
      "metadata": {
        "id": "heO05qv4wqYy"
      },
      "execution_count": null,
      "outputs": []
    },
    {
      "cell_type": "code",
      "source": [
        "cifar10 = tf.keras.datasets.cifar10"
      ],
      "metadata": {
        "id": "IopD1esMwG0g"
      },
      "execution_count": null,
      "outputs": []
    },
    {
      "cell_type": "code",
      "source": [
        "(training_images, training_labels), (test_images, test_labels) = cifar10.load_data()"
      ],
      "metadata": {
        "id": "aMhJ6rbxwHO9"
      },
      "execution_count": null,
      "outputs": []
    },
    {
      "cell_type": "code",
      "source": [
        "#Finding total number of images in training and test set\n",
        "print(len(training_images))\n",
        "print(len(test_images))"
      ],
      "metadata": {
        "colab": {
          "base_uri": "https://localhost:8080/"
        },
        "id": "bzqvBwejwJpf",
        "outputId": "96811f90-b5c3-48dd-d690-6d5342e03b90"
      },
      "execution_count": null,
      "outputs": [
        {
          "output_type": "stream",
          "name": "stdout",
          "text": [
            "50000\n",
            "10000\n"
          ]
        }
      ]
    },
    {
      "cell_type": "code",
      "source": [
        "#Reshaping and Normalizing training and test images\n",
        "training_images = training_images.reshape(50000, 1024, 3)\n",
        "training_images = training_images/255.0\n",
        "test_images = test_images.reshape(10000, 1024, 3)\n",
        "test_images = test_images/255.0"
      ],
      "metadata": {
        "id": "XKYtam1MwY20"
      },
      "execution_count": null,
      "outputs": []
    },
    {
      "cell_type": "code",
      "source": [
        "training_images.shape, training_labels.shape, test_images.shape, test_labels.shape"
      ],
      "metadata": {
        "colab": {
          "base_uri": "https://localhost:8080/"
        },
        "id": "OEZr3BGnwJsV",
        "outputId": "8973b0b3-6239-4b65-f48e-6294ea491501"
      },
      "execution_count": null,
      "outputs": [
        {
          "output_type": "execute_result",
          "data": {
            "text/plain": [
              "((50000, 1024, 3), (50000, 1), (10000, 1024, 3), (10000, 1))"
            ]
          },
          "metadata": {},
          "execution_count": 8
        }
      ]
    },
    {
      "cell_type": "markdown",
      "source": [
        "# 3 Solutions"
      ],
      "metadata": {
        "id": "iv-elYteBzYm"
      }
    },
    {
      "cell_type": "markdown",
      "source": [
        "## Single LSTM Layer"
      ],
      "metadata": {
        "id": "fQHblVchB6Tj"
      }
    },
    {
      "cell_type": "markdown",
      "source": [
        "We can see the model reached an accuracy of almost 25% at 10 epochs but after that the accuracy didn't tend to increase."
      ],
      "metadata": {
        "id": "-JGyU0zOCGnD"
      }
    },
    {
      "cell_type": "code",
      "source": [
        "model2 = tf.keras.models.Sequential([\n",
        "        tf.keras.layers.LSTM(32, input_shape=(1024, 3)),\n",
        "        tf.keras.layers.Dropout(0.25),\n",
        "        tf.keras.layers.Flatten(),\n",
        "        tf.keras.layers.Dense(128, activation='relu'),\n",
        "        tf.keras.layers.Dropout(0.25),\n",
        "        tf.keras.layers.Dense(64, activation='relu'),\n",
        "        tf.keras.layers.Dense(10, activation='softmax')\n",
        "        ])"
      ],
      "metadata": {
        "id": "qk7SAKoHwgdy"
      },
      "execution_count": null,
      "outputs": []
    },
    {
      "cell_type": "code",
      "source": [
        "model2.compile(optimizer='adam',\n",
        "              loss = 'sparse_categorical_crossentropy',\n",
        "              metrics=[\"acc\"])\n",
        "model2.fit(training_images, training_labels, batch_size = 50, epochs=20)\n"
      ],
      "metadata": {
        "colab": {
          "base_uri": "https://localhost:8080/"
        },
        "id": "-rj4wzPiwgft",
        "outputId": "0855fd9a-e33f-45b1-8d36-6f339f6974e3"
      },
      "execution_count": null,
      "outputs": [
        {
          "output_type": "stream",
          "name": "stdout",
          "text": [
            "Epoch 1/20\n",
            "1000/1000 [==============================] - 37s 32ms/step - loss: 2.1981 - acc: 0.1759\n",
            "Epoch 2/20\n",
            "1000/1000 [==============================] - 32s 32ms/step - loss: 2.1502 - acc: 0.2037\n",
            "Epoch 3/20\n",
            "1000/1000 [==============================] - 33s 33ms/step - loss: 2.1239 - acc: 0.2197\n",
            "Epoch 4/20\n",
            "1000/1000 [==============================] - 32s 32ms/step - loss: 2.1223 - acc: 0.2205\n",
            "Epoch 5/20\n",
            "1000/1000 [==============================] - 33s 33ms/step - loss: 2.1197 - acc: 0.2198\n",
            "Epoch 6/20\n",
            "1000/1000 [==============================] - 32s 32ms/step - loss: 2.0979 - acc: 0.2305\n",
            "Epoch 7/20\n",
            "1000/1000 [==============================] - 32s 32ms/step - loss: 2.0904 - acc: 0.2362\n",
            "Epoch 8/20\n",
            "1000/1000 [==============================] - 32s 32ms/step - loss: 2.0839 - acc: 0.2402\n",
            "Epoch 9/20\n",
            "1000/1000 [==============================] - 31s 31ms/step - loss: 2.0793 - acc: 0.2412\n",
            "Epoch 10/20\n",
            "1000/1000 [==============================] - 33s 33ms/step - loss: 2.0798 - acc: 0.2406\n",
            "Epoch 11/20\n",
            "1000/1000 [==============================] - 32s 32ms/step - loss: 2.1109 - acc: 0.2241\n",
            "Epoch 12/20\n",
            "1000/1000 [==============================] - 32s 32ms/step - loss: 2.1190 - acc: 0.2224\n",
            "Epoch 13/20\n",
            "1000/1000 [==============================] - 32s 32ms/step - loss: 2.1501 - acc: 0.2051\n",
            "Epoch 14/20\n",
            "1000/1000 [==============================] - 32s 32ms/step - loss: 2.1323 - acc: 0.2137\n",
            "Epoch 15/20\n",
            "1000/1000 [==============================] - 33s 33ms/step - loss: 2.1722 - acc: 0.1933\n",
            "Epoch 16/20\n",
            "1000/1000 [==============================] - 32s 32ms/step - loss: 2.1262 - acc: 0.2239\n",
            "Epoch 17/20\n",
            "1000/1000 [==============================] - 32s 32ms/step - loss: 2.1162 - acc: 0.2239\n",
            "Epoch 18/20\n",
            "1000/1000 [==============================] - 32s 32ms/step - loss: 2.0893 - acc: 0.2367\n",
            "Epoch 19/20\n",
            "1000/1000 [==============================] - 32s 32ms/step - loss: 2.1024 - acc: 0.2256\n",
            "Epoch 20/20\n",
            "1000/1000 [==============================] - 32s 32ms/step - loss: 2.1023 - acc: 0.2256\n"
          ]
        },
        {
          "output_type": "execute_result",
          "data": {
            "text/plain": [
              "<keras.src.callbacks.History at 0x7d3de02250f0>"
            ]
          },
          "metadata": {},
          "execution_count": 28
        }
      ]
    },
    {
      "cell_type": "markdown",
      "source": [
        "## 2 LSTM Layers"
      ],
      "metadata": {
        "id": "pf1bjQ6kCdYu"
      }
    },
    {
      "cell_type": "markdown",
      "source": [
        "We can see the model reached an accuracy of over 36% at 20 epochs. It was increase gradually so we trained another model with higher epochs to see if we can find the number of epochs needed here for best accuracy."
      ],
      "metadata": {
        "id": "A3x8ixsVCiX4"
      }
    },
    {
      "cell_type": "code",
      "source": [
        "model3 = tf.keras.models.Sequential([\n",
        "        tf.keras.layers.LSTM(128, input_shape=(1024, 3), return_sequences=True),\n",
        "        tf.keras.layers.LSTM(128),\n",
        "        tf.keras.layers.Dropout(0.2),\n",
        "        tf.keras.layers.Flatten(),\n",
        "        tf.keras.layers.Dense(128, activation='relu'),\n",
        "        tf.keras.layers.Dropout(0.2),\n",
        "        tf.keras.layers.Dense(64, activation='relu'),\n",
        "        tf.keras.layers.Dense(10, activation='softmax')\n",
        "        ])"
      ],
      "metadata": {
        "id": "DEi8D9urwgiC"
      },
      "execution_count": null,
      "outputs": []
    },
    {
      "cell_type": "code",
      "source": [
        "model3.compile(optimizer='adam',\n",
        "              loss = 'sparse_categorical_crossentropy',\n",
        "              metrics=[\"acc\"])\n",
        "model3.fit(training_images, training_labels, batch_size = 50, epochs=20)"
      ],
      "metadata": {
        "colab": {
          "base_uri": "https://localhost:8080/"
        },
        "id": "YePupi012Pd1",
        "outputId": "9d0ad3f4-5d28-473f-90c7-504cf73f8399"
      },
      "execution_count": null,
      "outputs": [
        {
          "output_type": "stream",
          "name": "stdout",
          "text": [
            "Epoch 1/20\n",
            "1000/1000 [==============================] - 75s 72ms/step - loss: 2.1715 - acc: 0.1901\n",
            "Epoch 2/20\n",
            "1000/1000 [==============================] - 73s 73ms/step - loss: 2.1308 - acc: 0.2158\n",
            "Epoch 3/20\n",
            "1000/1000 [==============================] - 74s 74ms/step - loss: 2.1803 - acc: 0.1799\n",
            "Epoch 4/20\n",
            "1000/1000 [==============================] - 73s 73ms/step - loss: 2.2770 - acc: 0.1309\n",
            "Epoch 5/20\n",
            "1000/1000 [==============================] - 73s 73ms/step - loss: 2.2712 - acc: 0.1265\n",
            "Epoch 6/20\n",
            "1000/1000 [==============================] - 75s 75ms/step - loss: 2.2149 - acc: 0.1717\n",
            "Epoch 7/20\n",
            "1000/1000 [==============================] - 73s 73ms/step - loss: 2.1293 - acc: 0.2164\n",
            "Epoch 8/20\n",
            "1000/1000 [==============================] - 73s 73ms/step - loss: 2.1286 - acc: 0.2177\n",
            "Epoch 9/20\n",
            "1000/1000 [==============================] - 73s 73ms/step - loss: 2.2181 - acc: 0.1599\n",
            "Epoch 10/20\n",
            "1000/1000 [==============================] - 73s 73ms/step - loss: 2.1869 - acc: 0.1649\n",
            "Epoch 11/20\n",
            "1000/1000 [==============================] - 73s 74ms/step - loss: 2.0797 - acc: 0.2213\n",
            "Epoch 12/20\n",
            "1000/1000 [==============================] - 73s 73ms/step - loss: 2.0333 - acc: 0.2431\n",
            "Epoch 13/20\n",
            "1000/1000 [==============================] - 73s 73ms/step - loss: 2.0045 - acc: 0.2572\n",
            "Epoch 14/20\n",
            "1000/1000 [==============================] - 73s 73ms/step - loss: 1.9975 - acc: 0.2598\n",
            "Epoch 15/20\n",
            "1000/1000 [==============================] - 73s 73ms/step - loss: 1.9789 - acc: 0.2680\n",
            "Epoch 16/20\n",
            "1000/1000 [==============================] - 73s 73ms/step - loss: 1.9476 - acc: 0.2813\n",
            "Epoch 17/20\n",
            "1000/1000 [==============================] - 73s 73ms/step - loss: 1.8997 - acc: 0.2976\n",
            "Epoch 18/20\n",
            "1000/1000 [==============================] - 73s 73ms/step - loss: 1.8482 - acc: 0.3177\n",
            "Epoch 19/20\n",
            "1000/1000 [==============================] - 73s 73ms/step - loss: 1.7869 - acc: 0.3393\n",
            "Epoch 20/20\n",
            "1000/1000 [==============================] - 73s 73ms/step - loss: 1.7280 - acc: 0.3618\n"
          ]
        },
        {
          "output_type": "execute_result",
          "data": {
            "text/plain": [
              "<keras.src.callbacks.History at 0x7d3d722bec50>"
            ]
          },
          "metadata": {},
          "execution_count": 33
        }
      ]
    },
    {
      "cell_type": "code",
      "source": [
        "model3.compile(optimizer='adam',\n",
        "              loss = 'sparse_categorical_crossentropy',\n",
        "              metrics=[\"acc\"])\n",
        "\n",
        "model3.fit(training_images, training_labels, batch_size = 50, epochs=40)"
      ],
      "metadata": {
        "colab": {
          "base_uri": "https://localhost:8080/"
        },
        "id": "j02z7t6aAyLI",
        "outputId": "384164ad-a7af-40c0-e86f-6132f011aab0"
      },
      "execution_count": null,
      "outputs": [
        {
          "output_type": "stream",
          "name": "stdout",
          "text": [
            "Epoch 1/40\n",
            "1000/1000 [==============================] - 78s 74ms/step - loss: 1.9256 - acc: 0.2869\n",
            "Epoch 2/40\n",
            "1000/1000 [==============================] - 74s 74ms/step - loss: 2.1268 - acc: 0.2060\n",
            "Epoch 3/40\n",
            "1000/1000 [==============================] - 73s 73ms/step - loss: 1.9710 - acc: 0.2698\n",
            "Epoch 4/40\n",
            "1000/1000 [==============================] - 74s 74ms/step - loss: 1.8440 - acc: 0.3161\n",
            "Epoch 5/40\n",
            "1000/1000 [==============================] - 74s 74ms/step - loss: 1.7695 - acc: 0.3396\n",
            "Epoch 6/40\n",
            "1000/1000 [==============================] - 78s 78ms/step - loss: 1.7083 - acc: 0.3638\n",
            "Epoch 7/40\n",
            "1000/1000 [==============================] - 81s 80ms/step - loss: 1.6615 - acc: 0.3819\n",
            "Epoch 8/40\n",
            "1000/1000 [==============================] - 77s 77ms/step - loss: 1.6260 - acc: 0.3953\n",
            "Epoch 9/40\n",
            " 346/1000 [=========>....................] - ETA: 54s - loss: 1.6005 - acc: 0.4045"
          ]
        }
      ]
    },
    {
      "cell_type": "markdown",
      "source": [
        "## Bidirectional"
      ],
      "metadata": {
        "id": "0dtMBbfIdCri"
      }
    },
    {
      "cell_type": "code",
      "source": [
        "model5 = tf.keras.models.Sequential([\n",
        "        tf.keras.layers.Bidirectional(tf.keras.layers.LSTM(128, input_shape=(1024, 3), return_sequences=True)),\n",
        "        tf.keras.layers.Bidirectional(tf.keras.layers.LSTM(128)),\n",
        "        tf.keras.layers.Dropout(0.25),\n",
        "        tf.keras.layers.Flatten(),\n",
        "        tf.keras.layers.Dense(128, activation='relu'),\n",
        "        tf.keras.layers.Dropout(0.25),\n",
        "        tf.keras.layers.Dense(64, activation='relu'),\n",
        "        tf.keras.layers.Dense(10, activation='softmax')\n",
        "        ])\n"
      ],
      "metadata": {
        "id": "DFmhUsgL36HL"
      },
      "execution_count": null,
      "outputs": []
    },
    {
      "cell_type": "code",
      "source": [
        "model5.compile(optimizer='adam',\n",
        "              loss = 'sparse_categorical_crossentropy',\n",
        "              metrics=[\"acc\"])\n",
        "model5.fit(training_images, training_labels, batch_size = 50, epochs=20)"
      ],
      "metadata": {
        "colab": {
          "base_uri": "https://localhost:8080/"
        },
        "id": "D_L9xlSm5wx3",
        "outputId": "c4e0f29b-99bf-47c1-b2aa-6a65b54d85d8"
      },
      "execution_count": null,
      "outputs": [
        {
          "output_type": "stream",
          "name": "stdout",
          "text": [
            "Epoch 1/20\n",
            "1000/1000 [==============================] - 161s 154ms/step - loss: 2.1293 - acc: 0.1954\n",
            "Epoch 2/20\n",
            "1000/1000 [==============================] - 154s 154ms/step - loss: 2.1055 - acc: 0.2038\n",
            "Epoch 3/20\n",
            "1000/1000 [==============================] - 154s 154ms/step - loss: 2.0651 - acc: 0.2254\n",
            "Epoch 4/20\n",
            "1000/1000 [==============================] - 154s 154ms/step - loss: 2.0351 - acc: 0.2491\n",
            "Epoch 5/20\n",
            "1000/1000 [==============================] - 155s 155ms/step - loss: 2.0450 - acc: 0.2412\n",
            "Epoch 6/20\n",
            "1000/1000 [==============================] - 154s 154ms/step - loss: 1.9709 - acc: 0.2798\n",
            "Epoch 7/20\n",
            "1000/1000 [==============================] - 154s 154ms/step - loss: 1.8998 - acc: 0.3129\n",
            "Epoch 8/20\n",
            "1000/1000 [==============================] - 154s 154ms/step - loss: 1.8338 - acc: 0.3368\n",
            "Epoch 9/20\n",
            "1000/1000 [==============================] - 154s 154ms/step - loss: 1.9521 - acc: 0.2802\n",
            "Epoch 10/20\n",
            "1000/1000 [==============================] - 155s 155ms/step - loss: 2.0339 - acc: 0.2483\n",
            "Epoch 11/20\n",
            "1000/1000 [==============================] - 154s 154ms/step - loss: 2.0022 - acc: 0.2646\n",
            "Epoch 12/20\n",
            "1000/1000 [==============================] - 154s 154ms/step - loss: 1.9681 - acc: 0.2831\n",
            "Epoch 13/20\n",
            "1000/1000 [==============================] - 155s 155ms/step - loss: 1.9534 - acc: 0.2886\n",
            "Epoch 14/20\n",
            "1000/1000 [==============================] - 154s 154ms/step - loss: 1.9018 - acc: 0.3051\n",
            "Epoch 15/20\n",
            "1000/1000 [==============================] - 155s 155ms/step - loss: 1.8959 - acc: 0.3097\n",
            "Epoch 16/20\n",
            "1000/1000 [==============================] - 154s 154ms/step - loss: 1.8410 - acc: 0.3327\n",
            "Epoch 17/20\n",
            "1000/1000 [==============================] - 154s 154ms/step - loss: 1.7617 - acc: 0.3592\n",
            "Epoch 18/20\n",
            "1000/1000 [==============================] - 155s 155ms/step - loss: 1.6840 - acc: 0.3800\n",
            "Epoch 19/20\n",
            "1000/1000 [==============================] - 155s 155ms/step - loss: 1.6281 - acc: 0.3981\n",
            "Epoch 20/20\n",
            "1000/1000 [==============================] - 156s 156ms/step - loss: 1.5853 - acc: 0.4126\n"
          ]
        },
        {
          "output_type": "execute_result",
          "data": {
            "text/plain": [
              "<keras.src.callbacks.History at 0x7d3d72452980>"
            ]
          },
          "metadata": {},
          "execution_count": 39
        }
      ]
    }
  ]
}