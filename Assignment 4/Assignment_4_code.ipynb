{
  "nbformat": 4,
  "nbformat_minor": 0,
  "metadata": {
    "colab": {
      "provenance": [],
      "gpuType": "T4"
    },
    "kernelspec": {
      "name": "python3",
      "display_name": "Python 3"
    },
    "language_info": {
      "name": "python"
    },
    "accelerator": "GPU"
  },
  "cells": [
    {
      "cell_type": "code",
      "execution_count": null,
      "metadata": {
        "id": "Aua7Yw16hUNK"
      },
      "outputs": [],
      "source": [
        "# Open the file in read mode\n",
        "with open('news_corpus.txt', 'r') as file:\n",
        "  content = file.read().lower()\n",
        "  words = content.split()\n",
        "\n",
        "words = [word for word in words if word.isalpha() and 'æ' not in word]"
      ]
    },
    {
      "cell_type": "code",
      "source": [
        "vocab = set(words)\n",
        "vocab_size = len(vocab)"
      ],
      "metadata": {
        "id": "Q17xATG64-6f"
      },
      "execution_count": null,
      "outputs": []
    },
    {
      "cell_type": "code",
      "source": [
        "vocab_size"
      ],
      "metadata": {
        "colab": {
          "base_uri": "https://localhost:8080/"
        },
        "id": "mFOCrgnd5D6o",
        "outputId": "ddd42cf6-5688-4e0c-e534-fdacebadefe4"
      },
      "execution_count": null,
      "outputs": [
        {
          "output_type": "execute_result",
          "data": {
            "text/plain": [
              "33482"
            ]
          },
          "metadata": {},
          "execution_count": 3
        }
      ]
    },
    {
      "cell_type": "code",
      "source": [
        "word_to_index = {word:index for index, word in enumerate(vocab)}\n",
        "index_to_word = {index:word for index, word in enumerate(vocab)}"
      ],
      "metadata": {
        "id": "YTjYQZhq5FaT"
      },
      "execution_count": null,
      "outputs": []
    },
    {
      "cell_type": "code",
      "source": [
        "# Create our dataset using a combination of context and target for CBOW training\n",
        "data = []\n",
        "for i in range(2, len(words)-2):\n",
        "  context = [words[i-2], words[i-1],\n",
        "             words[i+1], words[i+2]]\n",
        "  target = words[i]\n",
        "  data.append((context, target))"
      ],
      "metadata": {
        "id": "DkNnx__p5XY6"
      },
      "execution_count": null,
      "outputs": []
    },
    {
      "cell_type": "code",
      "source": [
        "import torch\n",
        "import torch.nn as nn"
      ],
      "metadata": {
        "id": "ty76atuB5_0x"
      },
      "execution_count": null,
      "outputs": []
    },
    {
      "cell_type": "code",
      "source": [
        "device = torch.device(\"cuda\" if torch.cuda.is_available() else \"cpu\")"
      ],
      "metadata": {
        "id": "vNNy_ca0BOka"
      },
      "execution_count": null,
      "outputs": []
    },
    {
      "cell_type": "code",
      "source": [
        "device"
      ],
      "metadata": {
        "colab": {
          "base_uri": "https://localhost:8080/"
        },
        "id": "91rYPmpJBbl-",
        "outputId": "9a84bc88-1c08-413e-d3a5-75c8461aa1d9"
      },
      "execution_count": null,
      "outputs": [
        {
          "output_type": "execute_result",
          "data": {
            "text/plain": [
              "device(type='cuda')"
            ]
          },
          "metadata": {},
          "execution_count": 8
        }
      ]
    },
    {
      "cell_type": "code",
      "source": [
        "def make_context_vector(context, word_to_index):\n",
        "  indices = [word_to_index[w] for w in context]\n",
        "  return torch.tensor(indices, dtype=torch.long, device=device)"
      ],
      "metadata": {
        "id": "QkyiyI3g6D_N"
      },
      "execution_count": null,
      "outputs": []
    },
    {
      "cell_type": "code",
      "source": [
        "EMBEDDING_DIM = 100\n",
        "\n",
        "# Class to build CBOW model\n",
        "class CBOW(torch.nn.Module):\n",
        "  def __init__(self, vocab_size, embedding_dim):\n",
        "    super(CBOW, self).__init__()\n",
        "\n",
        "    self.embeddings = nn.Embedding(vocab_size, embedding_dim)\n",
        "    self.linear1 = nn.Linear(embedding_dim, 128)\n",
        "    self.activation_function1 = nn.ReLU()\n",
        "\n",
        "    self.linear2 = nn.Linear(128, vocab_size)\n",
        "    self.activation_function2 = nn.LogSoftmax(dim=-1)\n",
        "\n",
        "  def forward(self, inputs):\n",
        "    embeds = sum(self.embeddings(inputs)).view(1,-1)\n",
        "    out = self.linear1(embeds)\n",
        "    out = self.activation_function1(out)\n",
        "    out = self.linear2(out)\n",
        "    out = self.activation_function2(out)\n",
        "    return out\n",
        "\n",
        "  # EXTRA\n",
        "  def get_word_embedding(self, word):\n",
        "    word_index = torch.tensor(word_to_index[word], device=device)\n",
        "    return self.embeddings(word_index).view(1,-1)"
      ],
      "metadata": {
        "id": "PyfknLN56dqb"
      },
      "execution_count": null,
      "outputs": []
    },
    {
      "cell_type": "code",
      "source": [
        "model = CBOW(vocab_size, EMBEDDING_DIM).to(device)"
      ],
      "metadata": {
        "id": "ROG_TgqC8tx-"
      },
      "execution_count": null,
      "outputs": []
    },
    {
      "cell_type": "code",
      "source": [
        "loss_function = nn.NLLLoss()\n",
        "optimizer = torch.optim.SGD(model.parameters(), lr=0.001)"
      ],
      "metadata": {
        "id": "XohU6q5u80hv"
      },
      "execution_count": null,
      "outputs": []
    },
    {
      "cell_type": "code",
      "source": [
        "# Training\n",
        "for epoch in range(50):\n",
        "  total_loss = 0\n",
        "\n",
        "  for context, target in data:\n",
        "    context_vector = make_context_vector(context, word_to_index)\n",
        "    model.zero_grad()\n",
        "    log_probs = model(context_vector)\n",
        "    loss = loss_function(log_probs, torch.tensor([word_to_index[target]], device=device))\n",
        "    total_loss += loss\n",
        "    loss.backward()\n",
        "    optimizer.step()\n",
        "\n",
        "  print(total_loss)"
      ],
      "metadata": {
        "id": "8eWtA6go8_u2"
      },
      "execution_count": null,
      "outputs": []
    },
    {
      "cell_type": "code",
      "source": [
        "# Create our dataset using a combination of context and target for CBOW training\n",
        "data = []\n",
        "for i in range(2, len(words)-2):\n",
        "  context = [words[i-2], words[i-1],\n",
        "             words[i+1], words[i+2]]\n",
        "  target = words[i]\n",
        "  data.append((context, target))\n",
        "\n",
        "# Group the data into batches of 64\n",
        "batch_size = 64\n",
        "batches = [data[i:i+batch_size] for i in range(0, len(data), batch_size)]\n",
        "\n",
        "class CBOW(torch.nn.Module):\n",
        "  def __init__(self, vocab_size, embedding_dim):\n",
        "    super(CBOW, self).__init__()\n",
        "\n",
        "    self.embeddings = nn.Embedding(vocab_size, embedding_dim)\n",
        "    self.linear1 = nn.Linear(embedding_dim, 128)\n",
        "    self.activation_function1 = nn.ReLU()\n",
        "\n",
        "    self.linear2 = nn.Linear(128, vocab_size)\n",
        "    self.activation_function2 = nn.LogSoftmax(dim=-1)\n",
        "\n",
        "  def forward(self, inputs):\n",
        "    # Sum the embeddings of the context words\n",
        "    embeds = torch.sum(self.embeddings(inputs), dim=1)\n",
        "    out = self.linear1(embeds)\n",
        "    out = self.activation_function1(out)\n",
        "    out = self.linear2(out)\n",
        "    out = self.activation_function2(out)\n",
        "    return out\n",
        "\n",
        "model = CBOW(vocab_size, EMBEDDING_DIM).to(device)\n",
        "loss_function = nn.NLLLoss()\n",
        "optimizer = torch.optim.SGD(model.parameters(), lr=0.001)\n",
        "\n",
        "# Train the model\n",
        "for epoch in range(50):\n",
        "  total_loss = 0\n",
        "\n",
        "  for batch in batches:\n",
        "    context, target = zip(*batch)\n",
        "    context_vectors = torch.stack([make_context_vector(c, word_to_index) for c in context]).to(device)\n",
        "    target_tensors = torch.tensor([word_to_index[t] for t in target], device=device)\n",
        "\n",
        "    model.zero_grad()\n",
        "    log_probs = model(context_vectors)\n",
        "    loss = loss_function(log_probs, target_tensors)\n",
        "    total_loss += loss\n",
        "    loss.backward()\n",
        "    optimizer.step()\n",
        "\n",
        "  print(total_loss)\n"
      ],
      "metadata": {
        "id": "RqNPLfIJrM-O"
      },
      "execution_count": null,
      "outputs": []
    },
    {
      "cell_type": "code",
      "source": [
        "# Testing\n",
        "context = ['anne','green', 'and', 'out']\n",
        "context_vector = make_context_vector(context, word_to_index)\n",
        "output = model(context_vector)"
      ],
      "metadata": {
        "id": "98S-Lrd2-rNS"
      },
      "execution_count": null,
      "outputs": []
    },
    {
      "cell_type": "code",
      "source": [
        "# Print result\n",
        "print(f'Context: {context}\\n')\n",
        "print(f'Prediction: {index_to_word[torch.argmax(output[0]).item()]}')"
      ],
      "metadata": {
        "colab": {
          "base_uri": "https://localhost:8080/"
        },
        "id": "tiAfgvN8_qK1",
        "outputId": "976adb15-649d-41a9-a1d4-ac20332a1b8d"
      },
      "execution_count": null,
      "outputs": [
        {
          "output_type": "stream",
          "name": "stdout",
          "text": [
            "Context: ['anne', 'green', 'and', 'out']\n",
            "\n",
            "Prediction: of\n"
          ]
        }
      ]
    },
    {
      "cell_type": "code",
      "source": [
        "print(f'embedding:{model.get_word_embedding(\"good\")}')"
      ],
      "metadata": {
        "colab": {
          "base_uri": "https://localhost:8080/"
        },
        "id": "KNKXlaghALkX",
        "outputId": "1be24fea-af11-4132-eef2-a8fa51bccad8"
      },
      "execution_count": null,
      "outputs": [
        {
          "output_type": "stream",
          "name": "stdout",
          "text": [
            "embedding:tensor([[ 0.0344,  0.3045, -0.4319, -1.7686,  0.1896, -0.1149,  1.3540, -2.0016,\n",
            "          1.3115,  0.6336, -0.6434,  0.1296, -0.6239, -0.1096, -1.1448,  0.7652,\n",
            "          0.7295,  0.3042, -0.6074,  0.3363,  1.3657,  0.5275, -0.2030,  1.4025,\n",
            "          0.6864, -1.6390,  0.4457, -1.4422, -0.0918, -1.1462,  1.1658, -0.3711,\n",
            "         -1.2876,  0.6065, -0.3170,  0.2223, -0.0087,  0.1301,  0.1048, -0.0708,\n",
            "          1.6249,  0.2964, -0.9412,  0.8288, -1.3666, -0.4472,  0.3989,  0.4394,\n",
            "          0.0505, -0.7859,  0.1017, -0.4291, -0.0473,  0.0533,  0.3781,  0.7061,\n",
            "          0.6122, -0.6028, -0.4614,  0.4978,  1.3796, -0.5250, -1.1612, -0.0190,\n",
            "         -0.5980, -0.6977,  0.5652,  0.0690, -1.0179, -0.1406, -1.3673, -0.7538,\n",
            "          0.6141,  2.5406,  0.0266, -0.7983,  0.8883, -0.0464, -1.4198, -0.3316,\n",
            "          0.0727, -0.8053,  0.0274, -2.4423,  0.0520,  2.0904, -1.3377,  0.1818,\n",
            "          1.2972, -1.2921, -0.1637,  1.3437, -0.0802,  1.6403,  0.2230, -0.5634,\n",
            "         -1.0331,  1.5469,  1.3100, -1.0322]], device='cuda:0',\n",
            "       grad_fn=<ViewBackward0>)\n"
          ]
        }
      ]
    },
    {
      "cell_type": "code",
      "source": [
        "print(f'embedding:{model.get_word_embedding(\"great\")}')"
      ],
      "metadata": {
        "colab": {
          "base_uri": "https://localhost:8080/"
        },
        "id": "REYqcqn3AfdR",
        "outputId": "770d024e-9520-4c86-8db0-491d52ddb4ef"
      },
      "execution_count": null,
      "outputs": [
        {
          "output_type": "stream",
          "name": "stdout",
          "text": [
            "embedding:tensor([[ 4.1602e-01,  5.5634e-01,  2.2157e+00,  1.0961e+00, -2.8320e-01,\n",
            "          1.7972e+00,  2.1557e+00, -6.9526e-01, -4.3523e-01, -6.7242e-01,\n",
            "          1.0329e-02, -3.7228e-01,  1.8112e+00,  4.7911e-01, -1.1349e+00,\n",
            "         -9.1864e-02,  3.6556e-01, -9.3028e-01,  1.8752e-02,  1.0644e+00,\n",
            "          1.2995e+00,  3.5984e-01, -1.3454e+00, -3.0930e-02,  9.0014e-02,\n",
            "         -9.8215e-01, -1.2702e+00,  2.6569e-01, -1.5493e+00,  1.7160e+00,\n",
            "         -9.5832e-01,  3.8075e-01, -9.5799e-01, -7.3311e-01, -8.7787e-01,\n",
            "          2.0520e+00, -2.1170e+00,  1.1215e-01, -6.0816e-01,  6.6146e-01,\n",
            "         -4.6952e-01,  4.8175e-01,  1.6175e+00, -6.2025e-01, -4.1780e-02,\n",
            "          8.8671e-01, -1.1293e+00, -5.7480e-01,  1.3292e-01,  1.2447e+00,\n",
            "         -7.0102e-01, -6.8578e-01,  4.9787e-01,  4.3137e-01,  9.2317e-01,\n",
            "          1.7474e-01,  1.7985e-01,  1.4353e-02, -5.7185e-01,  3.1124e-01,\n",
            "          6.7811e-01,  7.5656e-01,  2.7621e-01,  6.2838e-01, -5.2297e-01,\n",
            "         -1.8609e+00, -6.8684e-01,  3.2462e-01, -1.4295e+00, -2.2815e-01,\n",
            "         -1.7357e+00, -1.1157e+00, -9.6971e-01, -8.6170e-01, -5.6347e-01,\n",
            "         -7.5275e-01, -4.9138e-01, -1.1174e-03,  7.9400e-01,  9.3032e-01,\n",
            "         -1.1677e+00, -2.7867e-01, -2.5619e-01, -5.3225e-01, -5.0753e-01,\n",
            "          1.2319e+00,  6.3196e-01,  4.9873e-01, -1.0818e-01, -8.7599e-01,\n",
            "         -2.8142e-02, -1.3760e-01, -5.5622e-01,  1.2769e+00,  1.8874e-01,\n",
            "         -1.2926e+00, -3.3704e+00, -1.5078e+00,  7.7104e-01, -4.1283e-01]],\n",
            "       device='cuda:0', grad_fn=<ViewBackward0>)\n"
          ]
        }
      ]
    },
    {
      "cell_type": "code",
      "source": [],
      "metadata": {
        "id": "7ullHPISEqpR"
      },
      "execution_count": null,
      "outputs": []
    }
  ]
}